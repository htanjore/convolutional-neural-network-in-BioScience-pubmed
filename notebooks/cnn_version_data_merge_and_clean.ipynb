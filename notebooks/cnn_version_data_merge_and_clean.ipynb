{
 "cells": [
  {
   "cell_type": "code",
   "execution_count": 1,
   "metadata": {},
   "outputs": [],
   "source": [
    "import pandas as pd\n",
    "import numpy as np\n",
    "import matplotlib.pyplot as plt\n",
    "import seaborn as sns\n",
    "from bs4 import BeautifulSoup\n",
    "import re\n",
    "import requests\n",
    "from urllib.request import Request, urlopen\n",
    "pd.options.display.max_rows = 1500\n",
    "pd.options.display.max_columns = 1500\n",
    "%matplotlib inline"
   ]
  },
  {
   "cell_type": "code",
   "execution_count": 2,
   "metadata": {},
   "outputs": [],
   "source": [
    "cnn = pd.read_csv('../data/cnn_pubmed.csv', sep = \",\")"
   ]
  },
  {
   "cell_type": "code",
   "execution_count": 3,
   "metadata": {},
   "outputs": [],
   "source": [
    "#replace empty strings with NaN\n",
    "cnn_df =cnn.replace(r'^\\s*$', np.nan, regex=True)"
   ]
  },
  {
   "cell_type": "code",
   "execution_count": 4,
   "metadata": {},
   "outputs": [
    {
     "data": {
      "text/plain": [
       "PMID                      0\n",
       "Title                     0\n",
       "ISOAbbreviation           0\n",
       "journal_title             0\n",
       "Abstract                 23\n",
       "Journalinfo_country       0\n",
       "Published_year            0\n",
       "Keyword_list           1910\n",
       "publication_type          0\n",
       "medline_citation          0\n",
       "pubmed_year               0\n",
       "Affiliation             948\n",
       "dtype: int64"
      ]
     },
     "execution_count": 4,
     "metadata": {},
     "output_type": "execute_result"
    }
   ],
   "source": [
    "cnn.isnull().sum()"
   ]
  },
  {
   "cell_type": "code",
   "execution_count": 5,
   "metadata": {},
   "outputs": [
    {
     "name": "stdout",
     "output_type": "stream",
     "text": [
      "<class 'pandas.core.frame.DataFrame'>\n",
      "RangeIndex: 4250 entries, 0 to 4249\n",
      "Data columns (total 12 columns):\n",
      "PMID                   4250 non-null int64\n",
      "Title                  4250 non-null object\n",
      "ISOAbbreviation        4250 non-null object\n",
      "journal_title          4250 non-null object\n",
      "Abstract               4227 non-null object\n",
      "Journalinfo_country    4250 non-null object\n",
      "Published_year         4250 non-null int64\n",
      "Keyword_list           2340 non-null object\n",
      "publication_type       4250 non-null object\n",
      "medline_citation       4250 non-null object\n",
      "pubmed_year            4250 non-null int64\n",
      "Affiliation            3302 non-null object\n",
      "dtypes: int64(3), object(9)\n",
      "memory usage: 398.6+ KB\n"
     ]
    }
   ],
   "source": [
    "cnn.info()"
   ]
  },
  {
   "cell_type": "code",
   "execution_count": 6,
   "metadata": {},
   "outputs": [],
   "source": [
    "# missing =cnn_df.columns[cnn_df.isna().any()]\n",
    "# display(cnn_df[cnn_df[\"Affiliation\"].isnull()][missing])\n",
    "# missing"
   ]
  },
  {
   "cell_type": "code",
   "execution_count": 7,
   "metadata": {},
   "outputs": [],
   "source": [
    "cnn['Published_year'] = pd.to_numeric(cnn['Published_year'])\n",
    "cnn.publication_type = cnn.publication_type.str.replace('Journal Article,', \"\", regex = True)\n",
    "cnn.publication_type = cnn.publication_type.str.replace(',Journal Article', \"\", regex = True)"
   ]
  },
  {
   "cell_type": "code",
   "execution_count": 8,
   "metadata": {},
   "outputs": [],
   "source": [
    "cnn.journal_title = cnn.journal_title.str.replace(\"(\\(.*\\))\", '')\n",
    "cnn.journal_title = cnn.journal_title.str.strip()\n",
    "cnn.journal_title = cnn.journal_title.str.title()"
   ]
  },
  {
   "cell_type": "code",
   "execution_count": 9,
   "metadata": {},
   "outputs": [],
   "source": [
    "#cnn_df[cnn_df.journal_title.str.contains('Sensors')]"
   ]
  },
  {
   "cell_type": "code",
   "execution_count": 10,
   "metadata": {},
   "outputs": [],
   "source": [
    "# indexed_journals = pd.read_csv('../data/indexed_journals_df.csv')\n",
    "# merge_df= cnn_df.merge(indexed_journals, left_on ='ISOAbbreviation', right_on = 'ISOAbbreviation', how='left')"
   ]
  },
  {
   "cell_type": "code",
   "execution_count": 11,
   "metadata": {},
   "outputs": [],
   "source": [
    "#indexed_journals.head()"
   ]
  },
  {
   "cell_type": "code",
   "execution_count": 12,
   "metadata": {},
   "outputs": [],
   "source": [
    "# indexed_journals.journal_title = indexed_journals.journal_title.str.replace(\"(\\(.*\\))\", '')\n",
    "# indexed_journals.journal_title = indexed_journals.journal_title.str.strip()"
   ]
  },
  {
   "cell_type": "code",
   "execution_count": 13,
   "metadata": {},
   "outputs": [],
   "source": [
    "# merge_df=merge_df[['PMID', 'Title', 'ISOAbbreviation', 'Abstract', 'Journalinfo_country',\n",
    "#        'Published_year', 'Keyword_list', 'publication_type',\n",
    "#        'medline_citation', 'pubmed_year', 'journal_title', 'Med_Abbr']]"
   ]
  },
  {
   "cell_type": "code",
   "execution_count": 14,
   "metadata": {},
   "outputs": [],
   "source": [
    "# merge_df['journal_title'] = merge_df.journal_title.str.title()"
   ]
  },
  {
   "cell_type": "code",
   "execution_count": 15,
   "metadata": {},
   "outputs": [],
   "source": [
    "# merge_df.journal_title = merge_df.journal_title.str.replace(\"(\\(.*\\))\", '')\n",
    "# merge_df.journal_title = merge_df.journal_title.str.strip()"
   ]
  },
  {
   "cell_type": "code",
   "execution_count": 16,
   "metadata": {},
   "outputs": [
    {
     "data": {
      "text/plain": [
       "PMID                      0\n",
       "Title                     0\n",
       "ISOAbbreviation           0\n",
       "journal_title             0\n",
       "Abstract                 23\n",
       "Journalinfo_country       0\n",
       "Published_year            0\n",
       "Keyword_list           1910\n",
       "publication_type          0\n",
       "medline_citation          0\n",
       "pubmed_year               0\n",
       "Affiliation             948\n",
       "dtype: int64"
      ]
     },
     "execution_count": 16,
     "metadata": {},
     "output_type": "execute_result"
    }
   ],
   "source": [
    "cnn.isnull().sum()"
   ]
  },
  {
   "cell_type": "code",
   "execution_count": 17,
   "metadata": {},
   "outputs": [],
   "source": [
    "impact_factor = pd.read_csv('../data/scimagojr 2018.csv', sep = \";\")\n",
    "impact_factor.columns = ['Rank', 'Sourceid', 'journal_title', 'Type', 'Issn', 'SJR', 'SJR Best Quartile',\n",
    "       'H index', 'Total Docs. (2018)', 'Total Docs. (3years)', 'Total Refs.',\n",
    "       'Total Cites (3years)', 'Citable Docs. (3years)',\n",
    "       'Cites / Doc. (2years)', 'Ref. / Doc.', 'Country', 'Publisher',\n",
    "       'Coverage', 'Categories']"
   ]
  },
  {
   "cell_type": "code",
   "execution_count": 18,
   "metadata": {},
   "outputs": [],
   "source": [
    "impact_factor['journal_title'] = impact_factor.journal_title.str.title()\n",
    "impact_factor['SJR']= impact_factor['SJR'].str.replace(',', \".\")\n",
    "impact_factor['SJR'] = pd.to_numeric(impact_factor['SJR'])"
   ]
  },
  {
   "cell_type": "code",
   "execution_count": 19,
   "metadata": {},
   "outputs": [],
   "source": [
    "cnn = cnn.merge(impact_factor, left_on = 'journal_title', right_on = 'journal_title', how = 'left')"
   ]
  },
  {
   "cell_type": "code",
   "execution_count": 20,
   "metadata": {},
   "outputs": [
    {
     "data": {
      "text/plain": [
       "PMID                         0\n",
       "Title                        0\n",
       "ISOAbbreviation              0\n",
       "journal_title                0\n",
       "Abstract                    23\n",
       "Journalinfo_country          0\n",
       "Published_year               0\n",
       "Keyword_list              1914\n",
       "publication_type             0\n",
       "medline_citation             0\n",
       "pubmed_year                  0\n",
       "Affiliation                948\n",
       "Rank                      1009\n",
       "Sourceid                  1009\n",
       "Type                      1009\n",
       "Issn                      1009\n",
       "SJR                       1009\n",
       "SJR Best Quartile         1009\n",
       "H index                   1009\n",
       "Total Docs. (2018)        1009\n",
       "Total Docs. (3years)      1009\n",
       "Total Refs.               1009\n",
       "Total Cites (3years)      1009\n",
       "Citable Docs. (3years)    1009\n",
       "Cites / Doc. (2years)     1009\n",
       "Ref. / Doc.               1009\n",
       "Country                   1009\n",
       "Publisher                 1015\n",
       "Coverage                  1009\n",
       "Categories                1009\n",
       "dtype: int64"
      ]
     },
     "execution_count": 20,
     "metadata": {},
     "output_type": "execute_result"
    }
   ],
   "source": [
    "cnn.isnull().sum()"
   ]
  },
  {
   "cell_type": "code",
   "execution_count": 21,
   "metadata": {},
   "outputs": [
    {
     "data": {
      "text/html": [
       "<div>\n",
       "<style scoped>\n",
       "    .dataframe tbody tr th:only-of-type {\n",
       "        vertical-align: middle;\n",
       "    }\n",
       "\n",
       "    .dataframe tbody tr th {\n",
       "        vertical-align: top;\n",
       "    }\n",
       "\n",
       "    .dataframe thead th {\n",
       "        text-align: right;\n",
       "    }\n",
       "</style>\n",
       "<table border=\"1\" class=\"dataframe\">\n",
       "  <thead>\n",
       "    <tr style=\"text-align: right;\">\n",
       "      <th></th>\n",
       "      <th>Abstract</th>\n",
       "      <th>Keyword_list</th>\n",
       "      <th>Affiliation</th>\n",
       "      <th>Rank</th>\n",
       "      <th>Sourceid</th>\n",
       "      <th>Type</th>\n",
       "      <th>Issn</th>\n",
       "      <th>SJR</th>\n",
       "      <th>SJR Best Quartile</th>\n",
       "      <th>H index</th>\n",
       "      <th>Total Docs. (2018)</th>\n",
       "      <th>Total Docs. (3years)</th>\n",
       "      <th>Total Refs.</th>\n",
       "      <th>Total Cites (3years)</th>\n",
       "      <th>Citable Docs. (3years)</th>\n",
       "      <th>Cites / Doc. (2years)</th>\n",
       "      <th>Ref. / Doc.</th>\n",
       "      <th>Country</th>\n",
       "      <th>Publisher</th>\n",
       "      <th>Coverage</th>\n",
       "      <th>Categories</th>\n",
       "    </tr>\n",
       "  </thead>\n",
       "  <tbody>\n",
       "  </tbody>\n",
       "</table>\n",
       "</div>"
      ],
      "text/plain": [
       "Empty DataFrame\n",
       "Columns: [Abstract, Keyword_list, Affiliation, Rank, Sourceid, Type, Issn, SJR, SJR Best Quartile, H index, Total Docs. (2018), Total Docs. (3years), Total Refs., Total Cites (3years), Citable Docs. (3years), Cites / Doc. (2years), Ref. / Doc., Country, Publisher, Coverage, Categories]\n",
       "Index: []"
      ]
     },
     "metadata": {},
     "output_type": "display_data"
    },
    {
     "data": {
      "text/plain": [
       "Index(['Abstract', 'Keyword_list', 'Affiliation', 'Rank', 'Sourceid', 'Type',\n",
       "       'Issn', 'SJR', 'SJR Best Quartile', 'H index', 'Total Docs. (2018)',\n",
       "       'Total Docs. (3years)', 'Total Refs.', 'Total Cites (3years)',\n",
       "       'Citable Docs. (3years)', 'Cites / Doc. (2years)', 'Ref. / Doc.',\n",
       "       'Country', 'Publisher', 'Coverage', 'Categories'],\n",
       "      dtype='object')"
      ]
     },
     "execution_count": 21,
     "metadata": {},
     "output_type": "execute_result"
    }
   ],
   "source": [
    "missing =cnn.columns[cnn.isna().any()]\n",
    "display(cnn[cnn[\"PMID\"].isnull()][missing])\n",
    "missing"
   ]
  },
  {
   "cell_type": "code",
   "execution_count": 22,
   "metadata": {},
   "outputs": [],
   "source": [
    "cnn.to_csv('../data/cnn.csv', index = False)"
   ]
  },
  {
   "cell_type": "code",
   "execution_count": 23,
   "metadata": {},
   "outputs": [
    {
     "data": {
      "text/plain": [
       "(4257, 30)"
      ]
     },
     "execution_count": 23,
     "metadata": {},
     "output_type": "execute_result"
    }
   ],
   "source": [
    "cnn.shape"
   ]
  },
  {
   "cell_type": "code",
   "execution_count": 24,
   "metadata": {},
   "outputs": [
    {
     "data": {
      "text/html": [
       "<div>\n",
       "<style scoped>\n",
       "    .dataframe tbody tr th:only-of-type {\n",
       "        vertical-align: middle;\n",
       "    }\n",
       "\n",
       "    .dataframe tbody tr th {\n",
       "        vertical-align: top;\n",
       "    }\n",
       "\n",
       "    .dataframe thead th {\n",
       "        text-align: right;\n",
       "    }\n",
       "</style>\n",
       "<table border=\"1\" class=\"dataframe\">\n",
       "  <thead>\n",
       "    <tr style=\"text-align: right;\">\n",
       "      <th></th>\n",
       "      <th>PMID</th>\n",
       "      <th>Title</th>\n",
       "      <th>ISOAbbreviation</th>\n",
       "      <th>journal_title</th>\n",
       "      <th>Abstract</th>\n",
       "      <th>Journalinfo_country</th>\n",
       "      <th>Published_year</th>\n",
       "      <th>Keyword_list</th>\n",
       "      <th>publication_type</th>\n",
       "      <th>medline_citation</th>\n",
       "      <th>pubmed_year</th>\n",
       "      <th>Affiliation</th>\n",
       "      <th>Rank</th>\n",
       "      <th>Sourceid</th>\n",
       "      <th>Type</th>\n",
       "      <th>Issn</th>\n",
       "      <th>SJR</th>\n",
       "      <th>SJR Best Quartile</th>\n",
       "      <th>H index</th>\n",
       "      <th>Total Docs. (2018)</th>\n",
       "      <th>Total Docs. (3years)</th>\n",
       "      <th>Total Refs.</th>\n",
       "      <th>Total Cites (3years)</th>\n",
       "      <th>Citable Docs. (3years)</th>\n",
       "      <th>Cites / Doc. (2years)</th>\n",
       "      <th>Ref. / Doc.</th>\n",
       "      <th>Country</th>\n",
       "      <th>Publisher</th>\n",
       "      <th>Coverage</th>\n",
       "      <th>Categories</th>\n",
       "    </tr>\n",
       "  </thead>\n",
       "  <tbody>\n",
       "    <tr>\n",
       "      <th>0</th>\n",
       "      <td>31710775</td>\n",
       "      <td>The Use of Optical Coherence Tomography and Co...</td>\n",
       "      <td>J Biophotonics</td>\n",
       "      <td>Journal Of Biophotonics</td>\n",
       "      <td>Incomplete surgical resection of head and neck...</td>\n",
       "      <td>Germany</td>\n",
       "      <td>2019</td>\n",
       "      <td>head and neck neoplasms,margins of excision,op...</td>\n",
       "      <td>Journal Article</td>\n",
       "      <td>Publisher</td>\n",
       "      <td>2019</td>\n",
       "      <td>Beckman Laser Institute &amp; Medical Clinic, Irvi...</td>\n",
       "      <td>4132.0</td>\n",
       "      <td>1.640015e+10</td>\n",
       "      <td>journal</td>\n",
       "      <td>1864063X</td>\n",
       "      <td>1.039</td>\n",
       "      <td>Q1</td>\n",
       "      <td>56.0</td>\n",
       "      <td>337.0</td>\n",
       "      <td>416.0</td>\n",
       "      <td>13424.0</td>\n",
       "      <td>1428.0</td>\n",
       "      <td>371.0</td>\n",
       "      <td>3,84</td>\n",
       "      <td>39,83</td>\n",
       "      <td>Germany</td>\n",
       "      <td>Wiley - VCH Verlag GmbH &amp; CO. KGaA</td>\n",
       "      <td>2008-ongoing</td>\n",
       "      <td>Biochemistry, Genetics and Molecular Biology (...</td>\n",
       "    </tr>\n",
       "    <tr>\n",
       "      <th>1</th>\n",
       "      <td>31710668</td>\n",
       "      <td>Automatic extraction of cancer registry report...</td>\n",
       "      <td>J Am Med Inform Assoc</td>\n",
       "      <td>Journal Of The American Medical Informatics As...</td>\n",
       "      <td>We implement 2 different multitask learning (M...</td>\n",
       "      <td>England</td>\n",
       "      <td>2019</td>\n",
       "      <td>cancer pathology reports,convolutional neural ...</td>\n",
       "      <td>Journal Article</td>\n",
       "      <td>Publisher</td>\n",
       "      <td>2019</td>\n",
       "      <td>Computational Sciences and Engineering Divisio...</td>\n",
       "      <td>1802.0</td>\n",
       "      <td>2.360000e+04</td>\n",
       "      <td>journal</td>\n",
       "      <td>10675027</td>\n",
       "      <td>1.711</td>\n",
       "      <td>Q1</td>\n",
       "      <td>132.0</td>\n",
       "      <td>225.0</td>\n",
       "      <td>557.0</td>\n",
       "      <td>8084.0</td>\n",
       "      <td>2430.0</td>\n",
       "      <td>518.0</td>\n",
       "      <td>4,46</td>\n",
       "      <td>35,93</td>\n",
       "      <td>United States</td>\n",
       "      <td>Oxford University Press</td>\n",
       "      <td>1994-ongoing</td>\n",
       "      <td>Health Informatics (Q1)</td>\n",
       "    </tr>\n",
       "    <tr>\n",
       "      <th>2</th>\n",
       "      <td>31710212</td>\n",
       "      <td>Convolutional neural networks for the design a...</td>\n",
       "      <td>J Chem Inf Model</td>\n",
       "      <td>Journal Of Chemical Information And Modeling</td>\n",
       "      <td>Convolutional neural network (CNN) is employed...</td>\n",
       "      <td>United States</td>\n",
       "      <td>2019</td>\n",
       "      <td>NaN</td>\n",
       "      <td>Journal Article</td>\n",
       "      <td>Publisher</td>\n",
       "      <td>2019</td>\n",
       "      <td>NaN</td>\n",
       "      <td>2406.0</td>\n",
       "      <td>1.300800e+05</td>\n",
       "      <td>journal</td>\n",
       "      <td>1549960X, 15499596</td>\n",
       "      <td>1.446</td>\n",
       "      <td>Q1</td>\n",
       "      <td>142.0</td>\n",
       "      <td>240.0</td>\n",
       "      <td>763.0</td>\n",
       "      <td>13356.0</td>\n",
       "      <td>3259.0</td>\n",
       "      <td>748.0</td>\n",
       "      <td>4,04</td>\n",
       "      <td>55,65</td>\n",
       "      <td>United States</td>\n",
       "      <td>American Chemical Society</td>\n",
       "      <td>2005-ongoing</td>\n",
       "      <td>Chemical Engineering (miscellaneous) (Q1); Che...</td>\n",
       "    </tr>\n",
       "    <tr>\n",
       "      <th>3</th>\n",
       "      <td>31708729</td>\n",
       "      <td>Deep Learning-Based Deep Brain Stimulation Tar...</td>\n",
       "      <td>Front Neurosci</td>\n",
       "      <td>Frontiers In Neuroscience</td>\n",
       "      <td>The purpose of the present study was to evalua...</td>\n",
       "      <td>Switzerland</td>\n",
       "      <td>2019</td>\n",
       "      <td>clinical application,convolutional neural netw...</td>\n",
       "      <td>Journal Article</td>\n",
       "      <td>PubMed-not-MEDLINE</td>\n",
       "      <td>2019</td>\n",
       "      <td>Department of Neurosurgery, Seoul Metropolitan...</td>\n",
       "      <td>1891.0</td>\n",
       "      <td>2.110020e+10</td>\n",
       "      <td>journal</td>\n",
       "      <td>1662453X, 16624548</td>\n",
       "      <td>1.665</td>\n",
       "      <td>Q1</td>\n",
       "      <td>71.0</td>\n",
       "      <td>810.0</td>\n",
       "      <td>1884.0</td>\n",
       "      <td>59190.0</td>\n",
       "      <td>7496.0</td>\n",
       "      <td>1766.0</td>\n",
       "      <td>3,81</td>\n",
       "      <td>73,07</td>\n",
       "      <td>Switzerland</td>\n",
       "      <td>Frontiers Media S.A.</td>\n",
       "      <td>2011-ongoing</td>\n",
       "      <td>Neuroscience (miscellaneous) (Q1)</td>\n",
       "    </tr>\n",
       "    <tr>\n",
       "      <th>4</th>\n",
       "      <td>31708281</td>\n",
       "      <td>Estimating PM2.5 concentration of the contermi...</td>\n",
       "      <td>Environ. Pollut.</td>\n",
       "      <td>Environmental Pollution</td>\n",
       "      <td>We apply convolutional neural network (CNN) mo...</td>\n",
       "      <td>England</td>\n",
       "      <td>2019</td>\n",
       "      <td>Convolutional neural network (CNN),Deep learni...</td>\n",
       "      <td>Journal Article</td>\n",
       "      <td>Publisher</td>\n",
       "      <td>2019</td>\n",
       "      <td>Department of Electrical and Computer Engineer...</td>\n",
       "      <td>1873.0</td>\n",
       "      <td>2.391600e+04</td>\n",
       "      <td>journal</td>\n",
       "      <td>02697491, 18736424</td>\n",
       "      <td>1.673</td>\n",
       "      <td>Q1</td>\n",
       "      <td>194.0</td>\n",
       "      <td>1493.0</td>\n",
       "      <td>2547.0</td>\n",
       "      <td>86792.0</td>\n",
       "      <td>15198.0</td>\n",
       "      <td>2505.0</td>\n",
       "      <td>5,95</td>\n",
       "      <td>58,13</td>\n",
       "      <td>United Kingdom</td>\n",
       "      <td>Elsevier Ltd.</td>\n",
       "      <td>1970-1980, 1986-ongoing</td>\n",
       "      <td>Health, Toxicology and Mutagenesis (Q1); Medic...</td>\n",
       "    </tr>\n",
       "  </tbody>\n",
       "</table>\n",
       "</div>"
      ],
      "text/plain": [
       "       PMID                                              Title  \\\n",
       "0  31710775  The Use of Optical Coherence Tomography and Co...   \n",
       "1  31710668  Automatic extraction of cancer registry report...   \n",
       "2  31710212  Convolutional neural networks for the design a...   \n",
       "3  31708729  Deep Learning-Based Deep Brain Stimulation Tar...   \n",
       "4  31708281  Estimating PM2.5 concentration of the contermi...   \n",
       "\n",
       "         ISOAbbreviation                                      journal_title  \\\n",
       "0         J Biophotonics                            Journal Of Biophotonics   \n",
       "1  J Am Med Inform Assoc  Journal Of The American Medical Informatics As...   \n",
       "2       J Chem Inf Model       Journal Of Chemical Information And Modeling   \n",
       "3         Front Neurosci                          Frontiers In Neuroscience   \n",
       "4       Environ. Pollut.                            Environmental Pollution   \n",
       "\n",
       "                                            Abstract Journalinfo_country  \\\n",
       "0  Incomplete surgical resection of head and neck...             Germany   \n",
       "1  We implement 2 different multitask learning (M...             England   \n",
       "2  Convolutional neural network (CNN) is employed...       United States   \n",
       "3  The purpose of the present study was to evalua...         Switzerland   \n",
       "4  We apply convolutional neural network (CNN) mo...             England   \n",
       "\n",
       "   Published_year                                       Keyword_list  \\\n",
       "0            2019  head and neck neoplasms,margins of excision,op...   \n",
       "1            2019  cancer pathology reports,convolutional neural ...   \n",
       "2            2019                                                NaN   \n",
       "3            2019  clinical application,convolutional neural netw...   \n",
       "4            2019  Convolutional neural network (CNN),Deep learni...   \n",
       "\n",
       "  publication_type    medline_citation  pubmed_year  \\\n",
       "0  Journal Article           Publisher         2019   \n",
       "1  Journal Article           Publisher         2019   \n",
       "2  Journal Article           Publisher         2019   \n",
       "3  Journal Article  PubMed-not-MEDLINE         2019   \n",
       "4  Journal Article           Publisher         2019   \n",
       "\n",
       "                                         Affiliation    Rank      Sourceid  \\\n",
       "0  Beckman Laser Institute & Medical Clinic, Irvi...  4132.0  1.640015e+10   \n",
       "1  Computational Sciences and Engineering Divisio...  1802.0  2.360000e+04   \n",
       "2                                                NaN  2406.0  1.300800e+05   \n",
       "3  Department of Neurosurgery, Seoul Metropolitan...  1891.0  2.110020e+10   \n",
       "4  Department of Electrical and Computer Engineer...  1873.0  2.391600e+04   \n",
       "\n",
       "      Type                Issn    SJR SJR Best Quartile  H index  \\\n",
       "0  journal            1864063X  1.039                Q1     56.0   \n",
       "1  journal            10675027  1.711                Q1    132.0   \n",
       "2  journal  1549960X, 15499596  1.446                Q1    142.0   \n",
       "3  journal  1662453X, 16624548  1.665                Q1     71.0   \n",
       "4  journal  02697491, 18736424  1.673                Q1    194.0   \n",
       "\n",
       "   Total Docs. (2018)  Total Docs. (3years)  Total Refs.  \\\n",
       "0               337.0                 416.0      13424.0   \n",
       "1               225.0                 557.0       8084.0   \n",
       "2               240.0                 763.0      13356.0   \n",
       "3               810.0                1884.0      59190.0   \n",
       "4              1493.0                2547.0      86792.0   \n",
       "\n",
       "   Total Cites (3years)  Citable Docs. (3years) Cites / Doc. (2years)  \\\n",
       "0                1428.0                   371.0                  3,84   \n",
       "1                2430.0                   518.0                  4,46   \n",
       "2                3259.0                   748.0                  4,04   \n",
       "3                7496.0                  1766.0                  3,81   \n",
       "4               15198.0                  2505.0                  5,95   \n",
       "\n",
       "  Ref. / Doc.         Country                           Publisher  \\\n",
       "0       39,83         Germany  Wiley - VCH Verlag GmbH & CO. KGaA   \n",
       "1       35,93   United States             Oxford University Press   \n",
       "2       55,65   United States           American Chemical Society   \n",
       "3       73,07     Switzerland                Frontiers Media S.A.   \n",
       "4       58,13  United Kingdom                       Elsevier Ltd.   \n",
       "\n",
       "                  Coverage                                         Categories  \n",
       "0             2008-ongoing  Biochemistry, Genetics and Molecular Biology (...  \n",
       "1             1994-ongoing                            Health Informatics (Q1)  \n",
       "2             2005-ongoing  Chemical Engineering (miscellaneous) (Q1); Che...  \n",
       "3             2011-ongoing                  Neuroscience (miscellaneous) (Q1)  \n",
       "4  1970-1980, 1986-ongoing  Health, Toxicology and Mutagenesis (Q1); Medic...  "
      ]
     },
     "execution_count": 24,
     "metadata": {},
     "output_type": "execute_result"
    }
   ],
   "source": [
    "cnn.head()"
   ]
  },
  {
   "cell_type": "code",
   "execution_count": null,
   "metadata": {},
   "outputs": [],
   "source": []
  }
 ],
 "metadata": {
  "kernelspec": {
   "display_name": "Python 3",
   "language": "python",
   "name": "python3"
  },
  "language_info": {
   "codemirror_mode": {
    "name": "ipython",
    "version": 3
   },
   "file_extension": ".py",
   "mimetype": "text/x-python",
   "name": "python",
   "nbconvert_exporter": "python",
   "pygments_lexer": "ipython3",
   "version": "3.6.6"
  }
 },
 "nbformat": 4,
 "nbformat_minor": 2
}
